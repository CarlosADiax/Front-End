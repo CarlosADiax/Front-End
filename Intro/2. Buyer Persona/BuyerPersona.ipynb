{
 "cells": [
  {
   "cell_type": "markdown",
   "metadata": {},
   "source": [
    "## __Buyer persona__\n",
    "\n",
    "<img src=\"../images/buyerPersona.png\">\n"
   ]
  }
 ],
 "metadata": {
  "interpreter": {
   "hash": "fca7286ad49a51c87c04439b8abc41030fa88164ec992102bbafb8655b3208f8"
  },
  "kernelspec": {
   "display_name": "Python 3.10.2 64-bit (windows store)",
   "language": "python",
   "name": "python3"
  },
  "language_info": {
   "name": "python",
   "version": "3.10.2"
  },
  "orig_nbformat": 4
 },
 "nbformat": 4,
 "nbformat_minor": 2
}
