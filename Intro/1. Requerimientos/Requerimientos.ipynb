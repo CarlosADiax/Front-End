{
 "cells": [
  {
   "cell_type": "markdown",
   "metadata": {},
   "source": [
    "#### Prácticas de Intro a Frontend\n",
    "__Caso: Abogabot__\n",
    "\n",
    "Descripción:\n",
    "\n",
    "- Es un despacho de abogados que quiere automatizar las demandas de sus clientes, esto lo harán a través de una página web llenando un formulario.\n",
    "- Al momento de llenar el formulario se manda al proceso de pago para finalizar la transacción.\n",
    "- Para dar seguimiento a su demanda, el cliente crea una cuenta en la plataforma y verá el seguimiento de cada una de las actualizaciones del proceso legal.\n",
    "- El administrador del sitio recibe la notificación de una nueva demanda y con los datos llenados del formulario se crea automáticamente el documento legal en formato word para empezar el proceso.\n",
    "- El administrador recibe el pago y debe de ser capaz de verlo en un dashboard para ver la cantidad de ingresos recibidos.\n",
    "- El administrador actualiza el proceso de la demanda y agrega comentarios en cada paso del proceso.\n",
    "- Al usuario le llegan correos de notificación para saber el avance de su proceso.\n",
    "- La página debe de ser responsive para poderla ver desde el celular.\n",
    "- La preferencia de colores del cliente es azul marino y blanco, pero acepta propuestas.\n"
   ]
  },
  {
   "cell_type": "markdown",
   "metadata": {},
   "source": [
    "### __Requerimientos__\n",
    "#### Requerimientos funcionales\n",
    "- Permitirá crear una cuenta completando los campos requeridos, para crear una demanda y se le sea atendida\n",
    "- Enviará un correo electrónico para verificar la cuenta\n",
    "- Cuando se verifique la cuenta se mostrará un formulario, donde se llenara la demanda del usuario con los datos completos\n",
    "- Al finalizar el llenado del formulario demanda, se redireccionará a la de pago, para finalizar con el tramite inicial\n",
    "- El o los administradores se les notifica por medio de email o dentro del sitio web la nueva solicitud\n",
    "- Las solicitudes y los pagos se verán reflejados en un dashboard (solo admins), donde se visualizara todas las solicitudes, el status de cada una, los pagos correspondientes, el total de las solicitudes y el pago\n",
    "- La solicitud tiene que convertirse en un documento de Word, para descargarla\n",
    "- Dentro del sitio web por parte del usuario se podrá ver el status de la demanda, así como los comentario de la persona que lo lleva a cabo\n",
    "- Cada actualización en el status de la demanda, el admin tendrá que colocar un comentario de lo que se llevó a cabo\n",
    "- Cuando actualice el administrador, le llegará un correo electrónico al usuario, notificándole el avance de la demanda "
   ]
  },
  {
   "cell_type": "markdown",
   "metadata": {},
   "source": [
    "#### Requerimientos no funcionales\n",
    "- Toda función del sistema y transacción debe responder al usuario en menos de 4 segundos\n",
    "- El sitio web tiene que ser responsive, de esta manera el usuario podrá verlo desde el celular\n",
    "- El sistema debe operar apropiadamente con 10 000 usuarios concurrentemente\n",
    "- Los datos se deberán actualizar al momento para todos los administradores\n",
    "- El color de la aplicación deberá ser de color azul marino con blanco"
   ]
  }
 ],
 "metadata": {
  "language_info": {
   "name": "python"
  },
  "orig_nbformat": 4
 },
 "nbformat": 4,
 "nbformat_minor": 2
}
