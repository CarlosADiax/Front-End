{
 "cells": [
  {
   "cell_type": "markdown",
   "metadata": {},
   "source": [
    "## Público Objetivo\n",
    "### __Abogabot__\n",
    "\n",
    "#### categoría clave\n",
    "- Rango de edad: 25-60 años\n",
    "- Genero: 59% Hombres, 41% Mujeres\n",
    "- Representante legal, ciudadano, Jefe de seguridad, Soporte técnico\n",
    "\n",
    "#### Desafíos\n",
    "- Ahorro de costes en el proceso\n",
    "- Presupuesto limitado\n",
    "- No esta familiarizado con las leyes\n",
    "\n",
    "#### Canales de comunicación\n",
    "- Correo electronico\n",
    "- Telefono\n",
    "- Redes sociales\n",
    "\n",
    "#### Tipos de contenido preferido\n",
    "- Videos\n",
    "- Articulos\n",
    "- Posts en redes sociales\n",
    "- Boletines informativos\n"
   ]
  }
 ],
 "metadata": {
  "language_info": {
   "name": "python"
  },
  "orig_nbformat": 4
 },
 "nbformat": 4,
 "nbformat_minor": 2
}
