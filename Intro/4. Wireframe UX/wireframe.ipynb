{
 "cells": [
  {
   "cell_type": "markdown",
   "metadata": {},
   "source": [
    "## URL WIREFRAME\n",
    "https://miro.com/app/board/uXjVOIbnyFk=/?invite_link_id=23351215866"
   ]
  }
 ],
 "metadata": {
  "language_info": {
   "name": "python"
  },
  "orig_nbformat": 4
 },
 "nbformat": 4,
 "nbformat_minor": 2
}
